{
 "metadata": {
  "language_info": {
   "codemirror_mode": {
    "name": "ipython",
    "version": 3
   },
   "file_extension": ".py",
   "mimetype": "text/x-python",
   "name": "python",
   "nbconvert_exporter": "python",
   "pygments_lexer": "ipython3",
   "version": "3.8.10"
  },
  "orig_nbformat": 2,
  "kernelspec": {
   "name": "python385jvsc74a57bd08f0d18fa402493471457a607d29128f0c62e1d9922055715c6c0929ae702655b",
   "display_name": "Python 3.8.10 64-bit ('base': conda)"
  },
  "metadata": {
   "interpreter": {
    "hash": "8f0d18fa402493471457a607d29128f0c62e1d9922055715c6c0929ae702655b"
   }
  }
 },
 "nbformat": 4,
 "nbformat_minor": 2,
 "cells": [
  {
   "cell_type": "code",
   "execution_count": 2,
   "metadata": {},
   "outputs": [],
   "source": [
    "import pandas as pd\n",
    "import numpy as np\n",
    "import matplotlib.pyplot as plt\n",
    "import scipy.stats as stats\n",
    "import inflect\n",
    "%matplotlib inline\n",
    "plt.style.use('ggplot')\n",
    "p=inflect.engine()"
   ]
  },
  {
   "cell_type": "code",
   "execution_count": 3,
   "metadata": {},
   "outputs": [],
   "source": [
    "df = pd.read_csv('data/pbp-2020.csv')\n",
    "df.drop(['Unnamed: 10', 'Unnamed: 12', 'Unnamed: 16', 'Unnamed: 17', 'Challenger', 'IsMeasurement'], axis=1, inplace=True) # Removing empty columns"
   ]
  },
  {
   "cell_type": "code",
   "execution_count": 4,
   "metadata": {},
   "outputs": [],
   "source": [
    "def is_success(row):\n",
    "    if row['Down']==1 and row['Yards']/row['ToGo']>=.4:\n",
    "        return 1\n",
    "    elif row['Down']==2 and row['Yards']/row['ToGo']>=.60:\n",
    "        return 1\n",
    "    elif (row['Down']==3 or row['Down']==4) and row['Yards']>=row['ToGo']:\n",
    "        return 1\n",
    "    else:\n",
    "        return 0"
   ]
  },
  {
   "cell_type": "code",
   "execution_count": 5,
   "metadata": {},
   "outputs": [],
   "source": [
    "df.sort_values(['GameId', 'Quarter', 'Minute', 'Second'], ascending=[True, True, False, False], inplace=True) #Sorted by game and ordered by game time\n",
    "df = df[df['PlayType'].notnull()]                                     # Removed null values associated with procedural warnings ie Two-Minute Warnings\n",
    "df = df[df['PlayType']!='TIMEOUT']                                    # Removed timeouts\n",
    "df = df[df['IsNoPlay']==0]                                            # Removed plays where the result of the play was called back\n",
    "df['IsSuccess'] = df.apply(lambda row: is_success(row), axis=1)       # Added a column indicating whether or not the play was a success\n",
    "rush_plays = df[df['IsRush']==1]                                      # Group Rush plays\n",
    "pass_plays = df[df['IsPass']==1]                                      # Group Pass plays\n",
    "teams = ['LV', 'MIN', 'TB', 'ARI', 'DEN', 'MIA', 'NYJ', 'CLE', 'NYG',\n",
    "       'BAL', 'CIN', 'HOU', 'CHI', 'IND', 'PIT', 'DAL', 'WAS', 'SEA',\n",
    "       'LA', 'CAR', 'TEN', 'BUF', 'KC', 'GB', 'ATL', 'NE', 'JAX', 'SF',\n",
    "       'LAC', 'PHI', 'DET', 'NO']\n",
    "Is_list = ['IsRush', 'IsPass', 'IsIncomplete', 'IsTouchdown', 'IsSack', 'IsChallenge', 'IsChallengeReversed', 'IsMeasurement', 'IsInterception',\n",
    "    'IsFumble', 'IsPenalty', 'IsTwoPointConversion', 'IsTwoPointConversionSuccessful', 'IsPenaltyAccepted', 'IsNoPlay']\n",
    "formations = ['UNDER CENTER', 'SHOTGUN', 'NO HUDDLE SHOTGUN', 'NO HUDDLE']"
   ]
  },
  {
   "cell_type": "code",
   "execution_count": 7,
   "metadata": {},
   "outputs": [],
   "source": [
    "def get_success_rates(team):\n",
    "    '''Takes team input and returns success rate of rush/pass plays by formation for the given team. Returns a dictionary of\n",
    "    dataframes with keys structured like \"Down 1 Rushes\" and \"Down 3 Passes\".'''\n",
    "    rush_plays = df[df['IsRush']==1]\n",
    "    pass_plays = df[df['IsPass']==1]\n",
    "    success_rates = {}\n",
    "    for i in range(1,5):\n",
    "        temp_r = rush_plays[rush_plays['Down']==i]\n",
    "        temp_p = pass_plays[pass_plays['Down']==i]\n",
    "        success_rate_rush = temp_r.groupby('Formation')['IsSuccess'].mean()\n",
    "        success_rate_pass = temp_p.groupby('Formation')['IsSuccess'].mean()\n",
    "        success_rates[f'Down {i} Rushes'] = success_rate_rush\n",
    "        success_rates[f'Down {i} Passes'] = success_rate_pass\n",
    "    return success_rates\n"
   ]
  },
  {
   "cell_type": "code",
   "execution_count": 9,
   "metadata": {},
   "outputs": [
    {
     "output_type": "execute_result",
     "data": {
      "text/plain": [
       "{'Down 1 Rushes': Formation\n",
       " NO HUDDLE            0.549383\n",
       " NO HUDDLE SHOTGUN    0.530159\n",
       " SHOTGUN              0.517298\n",
       " UNDER CENTER         0.488196\n",
       " Name: IsSuccess, dtype: float64,\n",
       " 'Down 1 Passes': Formation\n",
       " NO HUDDLE            0.535433\n",
       " NO HUDDLE SHOTGUN    0.587940\n",
       " SHOTGUN              0.591296\n",
       " UNDER CENTER         0.582220\n",
       " Name: IsSuccess, dtype: float64,\n",
       " 'Down 2 Rushes': Formation\n",
       " NO HUDDLE            0.598039\n",
       " NO HUDDLE SHOTGUN    0.663594\n",
       " SHOTGUN              0.484731\n",
       " UNDER CENTER         0.519511\n",
       " Name: IsSuccess, dtype: float64,\n",
       " 'Down 2 Passes': Formation\n",
       " NO HUDDLE            0.500000\n",
       " NO HUDDLE SHOTGUN    0.596750\n",
       " SHOTGUN              0.504990\n",
       " UNDER CENTER         0.571836\n",
       " Name: IsSuccess, dtype: float64,\n",
       " 'Down 3 Rushes': Formation\n",
       " NO HUDDLE            0.647059\n",
       " NO HUDDLE SHOTGUN    0.712766\n",
       " SHOTGUN              0.524855\n",
       " UNDER CENTER         0.637275\n",
       " Name: IsSuccess, dtype: float64,\n",
       " 'Down 3 Passes': Formation\n",
       " NO HUDDLE            0.500000\n",
       " NO HUDDLE SHOTGUN    0.493056\n",
       " SHOTGUN              0.424227\n",
       " UNDER CENTER         0.534247\n",
       " Name: IsSuccess, dtype: float64,\n",
       " 'Down 4 Rushes': Formation\n",
       " NO HUDDLE            0.000000\n",
       " NO HUDDLE SHOTGUN    0.900000\n",
       " SHOTGUN              0.670886\n",
       " UNDER CENTER         0.701299\n",
       " Name: IsSuccess, dtype: float64,\n",
       " 'Down 4 Passes': Formation\n",
       " NO HUDDLE            1.000000\n",
       " NO HUDDLE SHOTGUN    0.642857\n",
       " SHOTGUN              0.510067\n",
       " UNDER CENTER         0.659574\n",
       " Name: IsSuccess, dtype: float64}"
      ]
     },
     "metadata": {},
     "execution_count": 9
    }
   ],
   "source": [
    "get_success_rates('SEA')"
   ]
  },
  {
   "cell_type": "code",
   "execution_count": null,
   "metadata": {},
   "outputs": [],
   "source": []
  }
 ]
}